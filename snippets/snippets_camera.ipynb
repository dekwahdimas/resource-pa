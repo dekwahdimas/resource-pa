{
 "metadata": {
  "language_info": {
   "codemirror_mode": {
    "name": "ipython",
    "version": 3
   },
   "file_extension": ".py",
   "mimetype": "text/x-python",
   "name": "python",
   "nbconvert_exporter": "python",
   "pygments_lexer": "ipython3",
   "version": "3.9.4"
  },
  "orig_nbformat": 4,
  "kernelspec": {
   "name": "python3",
   "display_name": "Python 3.9.4 64-bit"
  },
  "interpreter": {
   "hash": "c569cd2e17f62341e0f08a54f9a867c3c0d3a6f67454072d7de41a8b5dff8343"
  }
 },
 "nbformat": 4,
 "nbformat_minor": 2,
 "cells": [
  {
   "source": [
    "# Capture and Play Video in Google Colab\n",
    "Source: https://androidkt.com/how-to-capture-and-play-video-in-google-colab/"
   ],
   "cell_type": "markdown",
   "metadata": {}
  },
  {
   "source": [
    "## Play Video"
   ],
   "cell_type": "markdown",
   "metadata": {}
  },
  {
   "cell_type": "code",
   "execution_count": null,
   "metadata": {},
   "outputs": [],
   "source": [
    "!ffmpeg -i \"/content/darknet/DeepSOCIAL Social Distancing.avi\" \"/content/darknet/DeepSOCIAL Social Distancing.mp4\""
   ]
  },
  {
   "cell_type": "code",
   "execution_count": null,
   "metadata": {},
   "outputs": [],
   "source": [
    "from IPython.display import HTML\n",
    "from base64 import b64encode\n",
    "mp4 = open('/content/darknet/DeepSOCIAL Social Distancing.mp4','rb').read()\n",
    "data_url = \"data:video/mp4;base64,\" + b64encode(mp4).decode()"
   ]
  },
  {
   "cell_type": "code",
   "execution_count": null,
   "metadata": {},
   "outputs": [],
   "source": [
    "# Path_For_SocialDistance = os.getcwd() + \"/DeepSOCIAL_Social_Distancing.avi\"\n",
    "\n",
    "HTML(\"\"\"\n",
    "<video controls>\n",
    "      <source src=\"%s\" type=\"video/mp4\">\n",
    "</video>\n",
    "\"\"\" % data_url)"
   ]
  },
  {
   "source": [
    "## Record Video and Save"
   ],
   "cell_type": "markdown",
   "metadata": {}
  },
  {
   "cell_type": "code",
   "execution_count": null,
   "metadata": {},
   "outputs": [],
   "source": [
    "from IPython.display import display, Javascript,HTML\n",
    "from google.colab.output import eval_js\n",
    "from base64 import b64decode\n",
    " \n",
    "def record_video(filename):\n",
    "  js=Javascript(\"\"\"\n",
    "    async function recordVideo() {\n",
    "      const options = { mimeType: \"video/webm; codecs=vp9\" };\n",
    "      const div = document.createElement('div');\n",
    "      const capture = document.createElement('button');\n",
    "      const stopCapture = document.createElement(\"button\");\n",
    "       \n",
    "      capture.textContent = \"Start Recording\";\n",
    "      capture.style.background = \"orange\";\n",
    "      capture.style.color = \"white\";\n",
    " \n",
    "      stopCapture.textContent = \"Stop Recording\";\n",
    "      stopCapture.style.background = \"red\";\n",
    "      stopCapture.style.color = \"white\";\n",
    "      div.appendChild(capture);\n",
    " \n",
    "      const video = document.createElement('video');\n",
    "      const recordingVid = document.createElement(\"video\");\n",
    "      video.style.display = 'block';\n",
    " \n",
    "      const stream = await navigator.mediaDevices.getUserMedia({audio:true, video: true});\n",
    "     \n",
    "      let recorder = new MediaRecorder(stream, options);\n",
    "      document.body.appendChild(div);\n",
    "      div.appendChild(video);\n",
    " \n",
    "      video.srcObject = stream;\n",
    "      video.muted = true;\n",
    " \n",
    "      await video.play();\n",
    " \n",
    "      google.colab.output.setIframeHeight(document.documentElement.scrollHeight, true);\n",
    " \n",
    "      await new Promise((resolve) => {\n",
    "        capture.onclick = resolve;\n",
    "      });\n",
    "      recorder.start();\n",
    "      capture.replaceWith(stopCapture);\n",
    " \n",
    "      await new Promise((resolve) => stopCapture.onclick = resolve);\n",
    "      recorder.stop();\n",
    "      let recData = await new Promise((resolve) => recorder.ondataavailable = resolve);\n",
    "      let arrBuff = await recData.data.arrayBuffer();\n",
    "       \n",
    "      // stop the stream and remove the video element\n",
    "      stream.getVideoTracks()[0].stop();\n",
    "      div.remove();\n",
    " \n",
    "      let binaryString = \"\";\n",
    "      let bytes = new Uint8Array(arrBuff);\n",
    "      bytes.forEach((byte) => {\n",
    "        binaryString += String.fromCharCode(byte);\n",
    "      })\n",
    "    return btoa(binaryString);\n",
    "    }\n",
    "  \"\"\")\n",
    "  try:\n",
    "    display(js)\n",
    "    data=eval_js('recordVideo({})')\n",
    "    binary=b64decode(data)\n",
    "    with open(filename,\"wb\") as video_file:\n",
    "      video_file.write(binary)\n",
    "    print(f\"Finished recording video at:{filename}\")\n",
    "  except Exception as err:\n",
    "    print(str(err))"
   ]
  },
  {
   "cell_type": "code",
   "execution_count": null,
   "metadata": {},
   "outputs": [],
   "source": [
    "video_path = \"test.mp4\"\n",
    "record_video(video_path)"
   ]
  }
 ]
}